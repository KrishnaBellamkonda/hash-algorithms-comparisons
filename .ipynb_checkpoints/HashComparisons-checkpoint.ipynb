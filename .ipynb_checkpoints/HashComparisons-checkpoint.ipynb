{
 "cells": [
  {
   "cell_type": "markdown",
   "id": "a8404bff",
   "metadata": {},
   "source": [
    "# Hash Comparisons in Python"
   ]
  },
  {
   "cell_type": "code",
   "execution_count": 1,
   "id": "f170dce5",
   "metadata": {},
   "outputs": [],
   "source": [
    "# Imports \n",
    "import os \n",
    "import json \n",
    "import string\n",
    "import hashlib\n",
    "import pandas as pd\n",
    "import numpy as np\n",
    "import seaborn as sns \n",
    "import matplotlib as mpl \n",
    "from random import choices\n",
    "import matplotlib.pyplot as plt\n",
    "\n",
    "# Profiler \n",
    "from memory_profiler import profile"
   ]
  },
  {
   "cell_type": "code",
   "execution_count": 2,
   "id": "60399904",
   "metadata": {},
   "outputs": [],
   "source": [
    "# Download Files Source\n",
    "random_text_source = \"./randomText.txt\""
   ]
  },
  {
   "cell_type": "code",
   "execution_count": 3,
   "id": "c48bd8d8",
   "metadata": {},
   "outputs": [],
   "source": [
    "# ASCII characters \n",
    "LETTERS = string.ascii_letters"
   ]
  },
  {
   "cell_type": "code",
   "execution_count": 4,
   "id": "e000caf4",
   "metadata": {},
   "outputs": [],
   "source": [
    "# String to hash \n",
    "# Creating a random string of length 10000 characters and hashing it \n",
    "string_length = 10000\n",
    "string_list = choices(LETTERS, k=string_length)\n",
    "string = \"\".join(string_list)"
   ]
  },
  {
   "cell_type": "code",
   "execution_count": 5,
   "id": "ce7107b9",
   "metadata": {},
   "outputs": [],
   "source": [
    "with open(random_text_source, \"w\") as fp:\n",
    "    fp.write(string)"
   ]
  },
  {
   "cell_type": "code",
   "execution_count": 6,
   "id": "5f0834e4",
   "metadata": {},
   "outputs": [],
   "source": [
    "# Convert String to Byte String\n",
    "byte_string = str.encode(string)"
   ]
  },
  {
   "cell_type": "markdown",
   "id": "0c09bf05",
   "metadata": {},
   "source": [
    "# How to Create a Hash of a String or Password"
   ]
  },
  {
   "cell_type": "code",
   "execution_count": 7,
   "id": "0ea3504e",
   "metadata": {},
   "outputs": [],
   "source": [
    "# Get SHA 1 for example\n",
    "sha1  = hashlib.sha1(byte_string)"
   ]
  },
  {
   "cell_type": "code",
   "execution_count": 8,
   "id": "24fb1c53",
   "metadata": {},
   "outputs": [
    {
     "data": {
      "text/plain": [
       "'c97047a9a0395584502ef6d460320d079a5d8945'"
      ]
     },
     "execution_count": 8,
     "metadata": {},
     "output_type": "execute_result"
    }
   ],
   "source": [
    "sha1.hexdigest()"
   ]
  },
  {
   "cell_type": "code",
   "execution_count": 9,
   "id": "3593ccfb",
   "metadata": {},
   "outputs": [],
   "source": [
    "string_copy = str(string)\n",
    "string_copy = string_copy.replace('D', '0')"
   ]
  },
  {
   "cell_type": "code",
   "execution_count": 10,
   "id": "0ecc90e9",
   "metadata": {},
   "outputs": [],
   "source": [
    "sha2 = hashlib.sha1(str.encode(string_copy))"
   ]
  },
  {
   "cell_type": "code",
   "execution_count": 11,
   "id": "65d49ffb",
   "metadata": {},
   "outputs": [
    {
     "data": {
      "text/plain": [
       "'e3805c508355014bf0cbf79775116cc3c249b577'"
      ]
     },
     "execution_count": 11,
     "metadata": {},
     "output_type": "execute_result"
    }
   ],
   "source": [
    "sha2.hexdigest()"
   ]
  },
  {
   "cell_type": "code",
   "execution_count": 12,
   "id": "0618881c",
   "metadata": {},
   "outputs": [
    {
     "data": {
      "text/plain": [
       "{'blake2b',\n",
       " 'blake2s',\n",
       " 'md5',\n",
       " 'sha1',\n",
       " 'sha224',\n",
       " 'sha256',\n",
       " 'sha384',\n",
       " 'sha3_224',\n",
       " 'sha3_256',\n",
       " 'sha3_384',\n",
       " 'sha3_512',\n",
       " 'sha512',\n",
       " 'shake_128',\n",
       " 'shake_256'}"
      ]
     },
     "execution_count": 12,
     "metadata": {},
     "output_type": "execute_result"
    }
   ],
   "source": [
    "hashlib.algorithms_guaranteed"
   ]
  },
  {
   "cell_type": "markdown",
   "id": "b0d85a6b",
   "metadata": {},
   "source": [
    "# Which is the Fastest Hashing Algorithm in Python?"
   ]
  },
  {
   "cell_type": "code",
   "execution_count": 13,
   "id": "aff4626d",
   "metadata": {},
   "outputs": [],
   "source": [
    "# DataFrame to Store the Results\n",
    "DATA = []\n",
    "ALL_RUNS = []"
   ]
  },
  {
   "cell_type": "code",
   "execution_count": 14,
   "id": "0f2f695c",
   "metadata": {},
   "outputs": [],
   "source": [
    "def runAlgorithm(function, byte_string):\n",
    "    hashAlgorithm = function(byte_string)\n",
    "    result = hashAlgorithm.hexdigest()"
   ]
  },
  {
   "cell_type": "code",
   "execution_count": 15,
   "id": "6c806d9b",
   "metadata": {},
   "outputs": [],
   "source": [
    "def saveResults(algorithm_name):\n",
    "    \"\"\"\n",
    "    All of the time is measuerd in microseconds \n",
    "    \"\"\"\n",
    "    timeit = _\n",
    "    all_runs = timeit.all_runs \n",
    "    n_runs = len(all_runs)\n",
    "    \n",
    "    # Add all Runs to the ALL_RUNS \n",
    "    # Simple but bad solution\n",
    "    all_runs_data = [[algorithm_name, run_value] for run_value in all_runs]\n",
    "    for val in all_runs_data:\n",
    "        ALL_RUNS.append(val)\n",
    "    \n",
    "    # Mean and Std \n",
    "    mean, std = np.mean(all_runs), np.std(all_runs)\n",
    "    data = [algorithm_name, mean, std, n_runs]\n",
    "    DATA.append(data)"
   ]
  },
  {
   "cell_type": "markdown",
   "id": "298ac64c",
   "metadata": {},
   "source": [
    "### SHA1"
   ]
  },
  {
   "cell_type": "code",
   "execution_count": 16,
   "id": "7def9a59",
   "metadata": {},
   "outputs": [],
   "source": [
    "# Timing for SHA1"
   ]
  },
  {
   "cell_type": "code",
   "execution_count": 17,
   "id": "097145eb",
   "metadata": {},
   "outputs": [
    {
     "name": "stdout",
     "output_type": "stream",
     "text": [
      "16.4 µs ± 1.97 µs per loop (mean ± std. dev. of 7 runs, 100000 loops each)\n"
     ]
    },
    {
     "data": {
      "text/plain": [
       "<TimeitResult : 16.4 µs ± 1.97 µs per loop (mean ± std. dev. of 7 runs, 100000 loops each)>"
      ]
     },
     "execution_count": 17,
     "metadata": {},
     "output_type": "execute_result"
    }
   ],
   "source": [
    "%%timeit -o\n",
    "hashAlgorithm = hashlib.sha1(byte_string)\n",
    "result = hashAlgorithm.hexdigest()"
   ]
  },
  {
   "cell_type": "code",
   "execution_count": 18,
   "id": "ec7f6bfe",
   "metadata": {},
   "outputs": [],
   "source": [
    "saveResults(\"SHA1\")"
   ]
  },
  {
   "cell_type": "markdown",
   "id": "a40d3e3b",
   "metadata": {},
   "source": [
    "### SHA224"
   ]
  },
  {
   "cell_type": "code",
   "execution_count": 19,
   "id": "f41f4cd4",
   "metadata": {},
   "outputs": [],
   "source": [
    "# Timing for SHA2"
   ]
  },
  {
   "cell_type": "code",
   "execution_count": 20,
   "id": "ec3a48f7",
   "metadata": {},
   "outputs": [
    {
     "name": "stdout",
     "output_type": "stream",
     "text": [
      "29.8 µs ± 934 ns per loop (mean ± std. dev. of 7 runs, 10000 loops each)\n"
     ]
    },
    {
     "data": {
      "text/plain": [
       "<TimeitResult : 29.8 µs ± 934 ns per loop (mean ± std. dev. of 7 runs, 10000 loops each)>"
      ]
     },
     "execution_count": 20,
     "metadata": {},
     "output_type": "execute_result"
    }
   ],
   "source": [
    "%%timeit -o\n",
    "runAlgorithm(hashlib.sha224, byte_string)"
   ]
  },
  {
   "cell_type": "code",
   "execution_count": 21,
   "id": "15d04f01",
   "metadata": {},
   "outputs": [],
   "source": [
    "saveResults(\"SHA224\")"
   ]
  },
  {
   "cell_type": "markdown",
   "id": "dc83617d",
   "metadata": {},
   "source": [
    "### SHA256"
   ]
  },
  {
   "cell_type": "code",
   "execution_count": 22,
   "id": "ceb48580",
   "metadata": {},
   "outputs": [],
   "source": [
    "# Timing for SHA256"
   ]
  },
  {
   "cell_type": "code",
   "execution_count": 23,
   "id": "1e1a07b8",
   "metadata": {},
   "outputs": [
    {
     "name": "stdout",
     "output_type": "stream",
     "text": [
      "39.2 µs ± 8.62 µs per loop (mean ± std. dev. of 7 runs, 10000 loops each)\n"
     ]
    },
    {
     "data": {
      "text/plain": [
       "<TimeitResult : 39.2 µs ± 8.62 µs per loop (mean ± std. dev. of 7 runs, 10000 loops each)>"
      ]
     },
     "execution_count": 23,
     "metadata": {},
     "output_type": "execute_result"
    }
   ],
   "source": [
    "%%timeit -o\n",
    "runAlgorithm(hashlib.sha256, byte_string)"
   ]
  },
  {
   "cell_type": "code",
   "execution_count": 24,
   "id": "ee6081f0",
   "metadata": {},
   "outputs": [],
   "source": [
    "saveResults(\"SHA256\")"
   ]
  },
  {
   "cell_type": "markdown",
   "id": "04482199",
   "metadata": {},
   "source": [
    "### SHA512"
   ]
  },
  {
   "cell_type": "code",
   "execution_count": 25,
   "id": "ee997cc7",
   "metadata": {},
   "outputs": [],
   "source": [
    "# Timing for SHA512"
   ]
  },
  {
   "cell_type": "code",
   "execution_count": 26,
   "id": "6c66fc87",
   "metadata": {},
   "outputs": [
    {
     "name": "stdout",
     "output_type": "stream",
     "text": [
      "23.8 µs ± 1.36 µs per loop (mean ± std. dev. of 7 runs, 10000 loops each)\n"
     ]
    },
    {
     "data": {
      "text/plain": [
       "<TimeitResult : 23.8 µs ± 1.36 µs per loop (mean ± std. dev. of 7 runs, 10000 loops each)>"
      ]
     },
     "execution_count": 26,
     "metadata": {},
     "output_type": "execute_result"
    }
   ],
   "source": [
    "%%timeit -o\n",
    "runAlgorithm(hashlib.sha512, byte_string)"
   ]
  },
  {
   "cell_type": "code",
   "execution_count": 27,
   "id": "ce04905e",
   "metadata": {},
   "outputs": [],
   "source": [
    "saveResults(\"SHA512\")"
   ]
  },
  {
   "cell_type": "markdown",
   "id": "59588046",
   "metadata": {},
   "source": [
    "### MD5"
   ]
  },
  {
   "cell_type": "code",
   "execution_count": 28,
   "id": "f02df30a",
   "metadata": {},
   "outputs": [],
   "source": [
    "# Timing for MD5"
   ]
  },
  {
   "cell_type": "code",
   "execution_count": 29,
   "id": "fdcfb510",
   "metadata": {},
   "outputs": [
    {
     "name": "stdout",
     "output_type": "stream",
     "text": [
      "20.1 µs ± 778 ns per loop (mean ± std. dev. of 7 runs, 10000 loops each)\n"
     ]
    },
    {
     "data": {
      "text/plain": [
       "<TimeitResult : 20.1 µs ± 778 ns per loop (mean ± std. dev. of 7 runs, 10000 loops each)>"
      ]
     },
     "execution_count": 29,
     "metadata": {},
     "output_type": "execute_result"
    }
   ],
   "source": [
    "%%timeit -o\n",
    "runAlgorithm(hashlib.md5, byte_string)"
   ]
  },
  {
   "cell_type": "code",
   "execution_count": 30,
   "id": "46d6a2c8",
   "metadata": {},
   "outputs": [],
   "source": [
    "saveResults(\"MD5\")"
   ]
  },
  {
   "cell_type": "markdown",
   "id": "0b7ad1f3",
   "metadata": {},
   "source": [
    "### Blake2b"
   ]
  },
  {
   "cell_type": "code",
   "execution_count": 31,
   "id": "b4f79a18",
   "metadata": {},
   "outputs": [],
   "source": [
    "# Timing for Blake2b"
   ]
  },
  {
   "cell_type": "code",
   "execution_count": 32,
   "id": "2992b72e",
   "metadata": {},
   "outputs": [
    {
     "name": "stdout",
     "output_type": "stream",
     "text": [
      "21.5 µs ± 728 ns per loop (mean ± std. dev. of 7 runs, 10000 loops each)\n"
     ]
    },
    {
     "data": {
      "text/plain": [
       "<TimeitResult : 21.5 µs ± 728 ns per loop (mean ± std. dev. of 7 runs, 10000 loops each)>"
      ]
     },
     "execution_count": 32,
     "metadata": {},
     "output_type": "execute_result"
    }
   ],
   "source": [
    "%%timeit -o\n",
    "runAlgorithm(hashlib.blake2b, byte_string)"
   ]
  },
  {
   "cell_type": "code",
   "execution_count": 33,
   "id": "a4e22230",
   "metadata": {},
   "outputs": [],
   "source": [
    "saveResults(\"Blake2b\")"
   ]
  },
  {
   "cell_type": "markdown",
   "id": "42c52bcf",
   "metadata": {},
   "source": [
    "### Sha3 512"
   ]
  },
  {
   "cell_type": "code",
   "execution_count": 34,
   "id": "9a8241e7",
   "metadata": {},
   "outputs": [
    {
     "name": "stdout",
     "output_type": "stream",
     "text": [
      "73.5 µs ± 2.64 µs per loop (mean ± std. dev. of 7 runs, 10000 loops each)\n"
     ]
    },
    {
     "data": {
      "text/plain": [
       "<TimeitResult : 73.5 µs ± 2.64 µs per loop (mean ± std. dev. of 7 runs, 10000 loops each)>"
      ]
     },
     "execution_count": 34,
     "metadata": {},
     "output_type": "execute_result"
    }
   ],
   "source": [
    "%%timeit -o\n",
    "runAlgorithm(hashlib.sha3_512, byte_string)"
   ]
  },
  {
   "cell_type": "code",
   "execution_count": 35,
   "id": "7a06dbd5",
   "metadata": {},
   "outputs": [],
   "source": [
    "saveResults(\"SHA3_512\")"
   ]
  },
  {
   "cell_type": "markdown",
   "id": "9d4b86b6",
   "metadata": {},
   "source": [
    "### SHA3 224"
   ]
  },
  {
   "cell_type": "code",
   "execution_count": 36,
   "id": "f98e5ef2",
   "metadata": {},
   "outputs": [
    {
     "name": "stdout",
     "output_type": "stream",
     "text": [
      "41.6 µs ± 10.4 µs per loop (mean ± std. dev. of 7 runs, 10000 loops each)\n"
     ]
    },
    {
     "data": {
      "text/plain": [
       "<TimeitResult : 41.6 µs ± 10.4 µs per loop (mean ± std. dev. of 7 runs, 10000 loops each)>"
      ]
     },
     "execution_count": 36,
     "metadata": {},
     "output_type": "execute_result"
    }
   ],
   "source": [
    "%%timeit -o\n",
    "runAlgorithm(hashlib.sha3_224, byte_string)"
   ]
  },
  {
   "cell_type": "code",
   "execution_count": 37,
   "id": "d8e44c30",
   "metadata": {},
   "outputs": [],
   "source": [
    "saveResults(\"SHA3_224\")"
   ]
  },
  {
   "cell_type": "markdown",
   "id": "7e70234b",
   "metadata": {},
   "source": [
    "### SHA3 256"
   ]
  },
  {
   "cell_type": "code",
   "execution_count": 38,
   "id": "d8253c1e",
   "metadata": {},
   "outputs": [
    {
     "name": "stdout",
     "output_type": "stream",
     "text": [
      "42.6 µs ± 5.47 µs per loop (mean ± std. dev. of 7 runs, 10000 loops each)\n"
     ]
    },
    {
     "data": {
      "text/plain": [
       "<TimeitResult : 42.6 µs ± 5.47 µs per loop (mean ± std. dev. of 7 runs, 10000 loops each)>"
      ]
     },
     "execution_count": 38,
     "metadata": {},
     "output_type": "execute_result"
    }
   ],
   "source": [
    "%%timeit -o\n",
    "runAlgorithm(hashlib.sha3_256, byte_string)"
   ]
  },
  {
   "cell_type": "code",
   "execution_count": 39,
   "id": "4ee1d761",
   "metadata": {},
   "outputs": [],
   "source": [
    "saveResults(\"SHA3_256\")"
   ]
  },
  {
   "cell_type": "markdown",
   "id": "49462299",
   "metadata": {},
   "source": [
    "### Analysing the Data"
   ]
  },
  {
   "cell_type": "code",
   "execution_count": 40,
   "id": "e3636a5d",
   "metadata": {},
   "outputs": [],
   "source": [
    "df_fast = pd.DataFrame(ALL_RUNS, columns=[\"Algorithm\", \"Time\"])\n",
    "df_fast = df_fast.sort_values(by=\"Time\")"
   ]
  },
  {
   "cell_type": "code",
   "execution_count": 41,
   "id": "8b8c45c0",
   "metadata": {},
   "outputs": [],
   "source": [
    "df_fast_calculated = pd.DataFrame(DATA, columns=[\"Algorithm\", \"MeanTime\", \"STD\", \"Runs\"])"
   ]
  },
  {
   "cell_type": "code",
   "execution_count": 42,
   "id": "ef60d5e3",
   "metadata": {},
   "outputs": [
    {
     "data": {
      "image/png": "[encoded data removed]",
      "text/plain": [
       "<Figure size 720x576 with 1 Axes>"
      ]
     },
     "metadata": {
      "needs_background": "light"
     },
     "output_type": "display_data"
    }
   ],
   "source": [
    "fig, ax = plt.subplots(figsize=(10, 8))\n",
    "color_pallete = mpl.cm.get_cmap('Blues_r')(0.4)\n",
    "sns.barplot(x=\"Time\", y=\"Algorithm\", data=df_fast, \n",
    "            color=color_pallete, ax=ax)\n",
    " \n",
    "# PLT \n",
    "ax.set_title(\"Time taken by Hashing algorithms\", fontsize=18)\n",
    "ax.set_xlabel(\"Time taken (in micro seconds)\", fontsize=18)\n",
    "ax.set_ylabel(\"\")\n",
    "\n",
    "ax.tick_params(axis=\"both\", which=\"major\", labelsize=14)\n",
    "ax.grid(axis = \"x\")\n",
    "\n",
    "plt.savefig(\"images/TimeTakenByAlgorithms.png\")\n"
   ]
  },
  {
   "cell_type": "code",
   "execution_count": 43,
   "id": "9557c5b8",
   "metadata": {},
   "outputs": [
    {
     "data": {
      "text/html": [
       "<div>\n",
       "<style scoped>\n",
       "    .dataframe tbody tr th:only-of-type {\n",
       "        vertical-align: middle;\n",
       "    }\n",
       "\n",
       "    .dataframe tbody tr th {\n",
       "        vertical-align: top;\n",
       "    }\n",
       "\n",
       "    .dataframe thead th {\n",
       "        text-align: right;\n",
       "    }\n",
       "</style>\n",
       "<table border=\"1\" class=\"dataframe\">\n",
       "  <thead>\n",
       "    <tr style=\"text-align: right;\">\n",
       "      <th></th>\n",
       "      <th>Algorithm</th>\n",
       "      <th>MeanTime</th>\n",
       "      <th>STD</th>\n",
       "      <th>Runs</th>\n",
       "    </tr>\n",
       "  </thead>\n",
       "  <tbody>\n",
       "    <tr>\n",
       "      <th>0</th>\n",
       "      <td>SHA1</td>\n",
       "      <td>1.640067</td>\n",
       "      <td>0.197271</td>\n",
       "      <td>7</td>\n",
       "    </tr>\n",
       "    <tr>\n",
       "      <th>1</th>\n",
       "      <td>SHA224</td>\n",
       "      <td>0.297543</td>\n",
       "      <td>0.009344</td>\n",
       "      <td>7</td>\n",
       "    </tr>\n",
       "    <tr>\n",
       "      <th>2</th>\n",
       "      <td>SHA256</td>\n",
       "      <td>0.391705</td>\n",
       "      <td>0.086177</td>\n",
       "      <td>7</td>\n",
       "    </tr>\n",
       "    <tr>\n",
       "      <th>3</th>\n",
       "      <td>SHA512</td>\n",
       "      <td>0.237735</td>\n",
       "      <td>0.013593</td>\n",
       "      <td>7</td>\n",
       "    </tr>\n",
       "    <tr>\n",
       "      <th>4</th>\n",
       "      <td>MD5</td>\n",
       "      <td>0.200791</td>\n",
       "      <td>0.007778</td>\n",
       "      <td>7</td>\n",
       "    </tr>\n",
       "    <tr>\n",
       "      <th>5</th>\n",
       "      <td>Blake2b</td>\n",
       "      <td>0.214985</td>\n",
       "      <td>0.007284</td>\n",
       "      <td>7</td>\n",
       "    </tr>\n",
       "    <tr>\n",
       "      <th>6</th>\n",
       "      <td>SHA3_512</td>\n",
       "      <td>0.734956</td>\n",
       "      <td>0.026360</td>\n",
       "      <td>7</td>\n",
       "    </tr>\n",
       "    <tr>\n",
       "      <th>7</th>\n",
       "      <td>SHA3_224</td>\n",
       "      <td>0.416456</td>\n",
       "      <td>0.104070</td>\n",
       "      <td>7</td>\n",
       "    </tr>\n",
       "    <tr>\n",
       "      <th>8</th>\n",
       "      <td>SHA3_256</td>\n",
       "      <td>0.426376</td>\n",
       "      <td>0.054699</td>\n",
       "      <td>7</td>\n",
       "    </tr>\n",
       "  </tbody>\n",
       "</table>\n",
       "</div>"
      ],
      "text/plain": [
       "  Algorithm  MeanTime       STD  Runs\n",
       "0      SHA1  1.640067  0.197271     7\n",
       "1    SHA224  0.297543  0.009344     7\n",
       "2    SHA256  0.391705  0.086177     7\n",
       "3    SHA512  0.237735  0.013593     7\n",
       "4       MD5  0.200791  0.007778     7\n",
       "5   Blake2b  0.214985  0.007284     7\n",
       "6  SHA3_512  0.734956  0.026360     7\n",
       "7  SHA3_224  0.416456  0.104070     7\n",
       "8  SHA3_256  0.426376  0.054699     7"
      ]
     },
     "execution_count": 43,
     "metadata": {},
     "output_type": "execute_result"
    }
   ],
   "source": [
    "df_fast_calculated"
   ]
  }
 ],
 "metadata": {
  "kernelspec": {
   "display_name": "Python 3",
   "language": "python",
   "name": "python3"
  },
  "language_info": {
   "codemirror_mode": {
    "name": "ipython",
    "version": 3
   },
   "file_extension": ".py",
   "mimetype": "text/x-python",
   "name": "python",
   "nbconvert_exporter": "python",
   "pygments_lexer": "ipython3",
   "version": "3.8.8"
  }
 },
 "nbformat": 4,
 "nbformat_minor": 5
}
